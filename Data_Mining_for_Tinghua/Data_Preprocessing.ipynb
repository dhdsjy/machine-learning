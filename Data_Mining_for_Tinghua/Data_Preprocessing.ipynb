{
 "cells": [
  {
   "cell_type": "code",
   "execution_count": null,
   "metadata": {
    "collapsed": true
   },
   "outputs": [],
   "source": [
    "# outline\n",
    "\n",
    "## Data Cleansing 主要是缺失值和重复值\n",
    "## Data Transformation\n",
    "## Data Description\n",
    "## Feature Selection （PCA ）\n",
    "## Feature Extraction （LDA）\n",
    "\n",
    "\n",
    "\n",
    "\n"
   ]
  },
  {
   "cell_type": "code",
   "execution_count": null,
   "metadata": {
    "collapsed": true
   },
   "outputs": [],
   "source": [
    "# Data Cleansing Incomplete Noisy Inconsistent Redundant Data types Imbalanced datasets\n",
    "\n",
    "\n",
    "## 缺失值（N/A (Not Applicable) 数据未提供（不想说）） （完全随机缺失 （缺失的概率是一样的） 条件随机缺失 ）\n",
    "### 其实异常值取平均值并不是一个很好的方法，尤其是取整体的平均值；应该根据数据的分布和属性间的关系\n",
    "### 进行判断选择，而且为了更接近真实，最好搞个高斯分布 让缺失值在这个均值附近波动"
   ]
  },
  {
   "cell_type": "code",
   "execution_count": null,
   "metadata": {
    "collapsed": true
   },
   "outputs": [],
   "source": [
    "# 重点 好好查资料研究\n",
    "# 异常值 vs 离群点\n",
    "## 异常值和离群点是有区别的概念 数据挖掘过程中需注意 不能说离群点一定是异常点或异常点一定是离群点\n",
    "\n",
    "## 异常值检测 局部异常因子算法-Local Outlier Factor(LOF) lof越大月疑似离群点\n",
    "### http://blog.csdn.net/wangyibo0201/article/details/51705966\n",
    "###　Ｒ语言中的lof实现异常检测\n",
    "###　https://www.52ml.net/19836.html"
   ]
  },
  {
   "cell_type": "code",
   "execution_count": null,
   "metadata": {
    "collapsed": true
   },
   "outputs": [],
   "source": [
    "# 重复值\n",
    "## 利用滑动窗口比较 前提是这些高度相似的疑似相似靠的比较近\n",
    "## create key ——>sort --->merge"
   ]
  },
  {
   "cell_type": "code",
   "execution_count": null,
   "metadata": {
    "collapsed": true
   },
   "outputs": [],
   "source": [
    "# Data Transformation （Type Conversion Normalization Sampling\n",
    "）\n",
    "## 数据类型\n",
    "### Continuous\n",
    "### Discrete\n",
    "### Ordinal 小中大\n",
    "### Nominal 分类的 rgb 职业  使用哑变量进行处理 少量是可以的 几万维就不现实了\n",
    "### String 文本\n",
    "\n",
    "## Type Conversion \n",
    "## Sampling Aggregation（days-->month）\n",
    "### over_sampling 将小样本中每个点周围随机生成一些点 smote 对少数样本通过插值进行上采样\n",
    "### 边缘采样 尤其是针对大数据集的时候"
   ]
  },
  {
   "cell_type": "code",
   "execution_count": null,
   "metadata": {
    "collapsed": true
   },
   "outputs": [],
   "source": [
    "## 数据描述与可视化\n",
    "### 标准化\n",
    "#### min_max 标准化 一般用于有明确的上下界的的情况\n",
    "#### 高斯标准化 意义：偏离均值多少个standard deviation 偏离三个以上就可以认为是异常值\n",
    "\n",
    "### 数据描述\n",
    "#### mean\n",
    "#### median\n",
    "#### mode The most frequently occurring value in a list Can be used with non-numerical data.\n",
    "#### variance Degree of diversity\n",
    "#### 相关性 r(A,B)=0 表示AB没有线性相关\n",
    "#### Pearson's chi-square (χ2) test 这个概念找时间研究一下\n",
    "\n",
    "### 数据可视化\n",
    "#### 高维数据的可视化 \n",
    "#### 箱型图（各个维度之间是割裂的） \n",
    "#### 平行坐标轴 每个特征一个纵坐标轴\n",
    "\n"
   ]
  },
  {
   "cell_type": "code",
   "execution_count": null,
   "metadata": {
    "collapsed": true
   },
   "outputs": [],
   "source": [
    "## 特征选择 这个讲的太少了吧 \n",
    "### 熵 不确定性的一个描述\n",
    "### 信息增益 不确定性降的幅度大小 越大，说明这个属性越具有选择性\n",
    "\n",
    "## 方法\n",
    "###　Top K Individual Features\n",
    "### Sequential Forward Selection\n",
    "### Sequential Backward Selection\n",
    "### Optimization Algorithms\n",
    "#### Simulated Annealing\n",
    "#### Tabu Search\n",
    "#### Genetic Algorithms\n"
   ]
  },
  {
   "cell_type": "code",
   "execution_count": null,
   "metadata": {
    "collapsed": true
   },
   "outputs": [],
   "source": [
    "## 特征提取\n",
    "### PCA 不靠路\n",
    "### LDA 有标签的数据 Fisher 标准"
   ]
  },
  {
   "cell_type": "markdown",
   "metadata": {},
   "source": [
    "## Python大战机器学习之数据预处理\n",
    "### 一般流程\n",
    "+ 去除唯一属性（通常指id）\n",
    "+ 处理缺失值\n",
    "  + "
   ]
  }
 ],
 "metadata": {
  "kernelspec": {
   "display_name": "Python 2",
   "language": "python",
   "name": "python2"
  },
  "language_info": {
   "codemirror_mode": {
    "name": "ipython",
    "version": 2
   },
   "file_extension": ".py",
   "mimetype": "text/x-python",
   "name": "python",
   "nbconvert_exporter": "python",
   "pygments_lexer": "ipython2",
   "version": "2.7.12"
  }
 },
 "nbformat": 4,
 "nbformat_minor": 0
}
