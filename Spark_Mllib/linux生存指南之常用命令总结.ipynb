{
 "cells": [
  {
   "cell_type": "markdown",
   "metadata": {},
   "source": [
    "## 最常用的指令\n",
    "+ ls　查看当前路径下的文件列表\n",
    "  + ls -a: 显示所有文件，包括隐藏文件（在linux中，隐藏文件的文件名以‘.’开头）\n",
    "  + ls -l: 显示文件的所有信息，包括权限、所属用户、大小、访问时间等\n",
    "+ cd cd /　表示切换到当前路径的‘根’目录　\n",
    "+ pwd　查看当前路径 　“/” 代表根目录，类似Windows的C盘。\n",
    "+ mkdir 创建目录\n",
    "+ touch 创建一个空文件　touch newfile.txt 表示创建了一个空的txt文本，可写入内容;  在linux中，文件的后缀名意义没有Windows的大，仅作为标识\n",
    "+ gedit 打开文本文件进行编辑　gedit newfile.txt\n",
    "+ cat 在终端中查看文本文件的内容　cat newfile.txt 不能查看目录\n",
    "+ cp 复制文件　cp <src><dest>　在同一目录下　cp file1 file2即可；不同目录下　cp 路径１/file1 路径２/file2;复制文件夹（目录）cp dir1 dir2 若文件夹是中文名字，一定要注意dir1 dir2之间的空格是英文状态下的\n",
    "+ mv 移动文件　相当于剪切后复制　移动文件或移动文件夹同样，无参数控制　mv file1 file2 若file2是已存在的文件，则相当于将file2的内容替换为file1的内容　，若file2是已存在的文件夹，则将file1移动到file2文件夹中\n",
    "+ rm　删除文件　-f参数：强制删除文件，不提示是否删除　-r参数：递归删除，用于删除文件夹及其中的所有文件　-rf参数：-r 和 -f 的结合\n",
    "+ echo 通常用在脚本语言和批处理文件中来在标准输出或者文件中显示一行文本或者字符串。使用重定向符创建带有内容的文件　echo \"the echo command test!\">file 相当于将引号中的内容写入file中，file 原有的内容会被覆盖;另一个功能类似于c语言中的格式输出　格式为\n",
    "    echo [选项][字符串]\n",
    "+ find   使用格式 ：find [指定查找目录] [查找规则] [查找完后执行的action] example:find /home/lee/创建目录 -name tt.csv\n",
    "在路径　/home/lee/创建目录　寻找所有的tt.csv文件，找到就返回所有的路径，没找到就没有任何返回\n",
    "\n",
    "[find具体细节](http://blog.chinaunix.net/uid-24648486-id-2998767)\n",
    "\n",
    "+ wc  Linux系统中的wc(Word Count)命令的功能为统计指定文件中的字节数、字数、行数，并将统计结果显示输出。c 统计字节数。-l 统计行数。-m 统计字符数。这个标志不能与 -c 标志一起使用。-w 统计字数。一个字被定义为由空白、跳格或换行字符分隔的字符串。-L 打印最长行的长度。\n",
    "\n",
    "+ grep 一种强大的文本搜索工具，它能使用正则表达式搜索文本，并把匹配的行打印出来。grep全称是Global Regular Expression Print，表示全局正则表达式版本，它的使用权限是所有用户。\n",
    "\n",
    "$ grep ‘test’ d*\n",
    "显示所有以d开头的文件中包含 test的行。\n",
    "$ grep ‘test’ aa bb cc\n",
    "显示在aa，bb，cc文件中匹配test的行。\n",
    "\n",
    "+ ln 创建文件链接　 不知道这个和复制有啥差　　将目录/usr/mengqc/mub1下的文件m2.c链接到目录/usr/liu下的文件a2.c\n",
    "\n",
    "```shell\n",
    "cd /usr/mengqc \n",
    "ln /mub1/m2.c /usr/liu/a2.c\n",
    "\n",
    "```\n",
    "\n",
    "+ more more命令和cat的功能一样都是查看文件里的内容，但有所不同的是more可以按页来查看文件的内容，还支持直接跳转行等功能\n",
    "\n",
    "```shell\n",
    "aijian.shi@U-aijian-shi:~/ALM$ more +3 test.log      #从第三行开始显示日志内容\n",
    "aijian.shi@U-aijian-shi:~/ALM$ more -4 test.log      #将日志内容设置为每屏显示4行\n",
    "```\n",
    "+ less less 的用法比起 more 更加的有弹性。 在 more 的时候，我们并没有办法向前面翻， 只能往后面看，但若使用了 less 时，就可以使用 [pageup] [pagedown] 等按 键的功能来往前往后翻看文件，更容易用来查看一个文件的内容！除此之外，在 less 里头可以拥有更多的搜索功能，不止可以向下搜，也可以向上搜。\n",
    "\n",
    "[more less细节](http://www.cnblogs.com/aijianshi/p/5750911.html)\n",
    "\n",
    "\n",
    "**注意**linux中，文件夹和目录等价；文件即我们常用的txt csv excel等"
   ]
  },
  {
   "cell_type": "markdown",
   "metadata": {},
   "source": [
    "## 系统管理命令\n",
    "+ stat stat file　显示file的详细信息\n",
    "+ top 动态显示当前耗费资源最多的进程\n",
    "+ clear 清屏\n",
    "+ kill 杀死进程，可以先用ps 或 top命令查看进程的id，然后再用kill命令杀死进程。\n",
    "+ sudo    “Sudo”是Unix/Linux平台上的一个非常有用的工具，它允许系统管理员分配给普通用户一些合理的“权利”，让他们执行一些只有超级用户或其他 特许用户才能完成的任务，[su sudo](http://www.cnblogs.com/py21120/articles/4651998.html)"
   ]
  },
  {
   "cell_type": "markdown",
   "metadata": {},
   "source": [
    "## 打包压缩相关命令\n",
    "+ tar:     打包压缩\n",
    "    + -c ：建立一个压缩文件的参数指令(create 的意思)； \n",
    "    + -x ：解开一个压缩文件的参数指令！ \n",
    "    + -t ：查看 tarfile 里面的文件！ \n",
    "    特别注意，在参数的下达中， c/x/t 仅能存在一个！不可同时存在！因为不可能同时压缩与解压缩。 \n",
    "    + -z ：是否同时具有 gzip 的属性？亦即是否需要用 gzip 压缩？ \n",
    "    + -j ：是否同时具有 bzip2 的属性？亦即是否需要用 bzip2 压缩？ \n",
    "    + -v ：压缩的过程中显示文件！这个常用，但不建议用在背景执行过程！ \n",
    "    + -f ：使用档名，请留意，在 f 之后要立即接档名喔！不要再加参数！ \n",
    "    例如使用『 tar -zcvfP tfile sfile』就是错误的写法，要写成『 tar -zcvPf tfile sfile』才对喔！ \n",
    "    + -p ：使用原文件的原来属性（属性不会依据使用者而变） \n",
    "    + -P ：可以使用绝对路径来压缩！ \n",
    "    + -N ：比后面接的日期(yyyy/mm/dd)还要新的才会被打包进新建的文件中！ \n",
    "    --exclude FILE：在压缩的过程中，不要将 FILE 打包！\n",
    "   \n",
    "```shell\n",
    "   \n",
    "   tar -cvf abc.tar /home/abc       只打包，不压缩\n",
    " \n",
    "    tar -zcvf abc.tar.gz /home/abc    打包，并用gzip压缩\n",
    " \n",
    "    tar -jcvf abc.tar.bz2 /home/abc   打包，并用bzip2压缩\n",
    "    \n",
    "    # 解压 将c改成x即可 要将压缩包解压到某个指定路径下，先切换到这个目录\n",
    "    tar -zxvf 所在路径/abc.tar.gz \n",
    "```\n",
    "   "
   ]
  },
  {
   "cell_type": "markdown",
   "metadata": {},
   "source": [
    "## linux管道\n",
    "将一个命令的标准输出作为另一个命令的标准输入。也就是把几个命令组合起来使用，后一个命令除以前一个命令的结果。\n",
    "```shell\n",
    "grep -r \"close\" /home/* | more       # 在home目录下所有文件中查找，包括close的文件，并分页输出。\n",
    "```"
   ]
  },
  {
   "cell_type": "markdown",
   "metadata": {},
   "source": [
    "## 文件权限管理\n",
    "+ 3种基本权限　r 读　数值表示为4；w 写　数值表示为２；x 可执行　数值表示为１\n",
    "+ **更改权限格式**　sudo chmod [u所属用户  g所属组  o其他用户  a所有用户]  [+增加权限  -减少权限]  [r  w  x]   目录名 \n",
    "```python\n",
    "sudo chmod u+x g+w o+r filename # 有一个文件filename，权限为“-rw-r----x” ,将权限值改为\"-rwxrw-r-x\"，用数值表示为765\n",
    "\n",
    "sudo chmod 765 filename\n",
    "```"
   ]
  }
 ],
 "metadata": {
  "anaconda-cloud": {},
  "kernelspec": {
   "display_name": "Python [conda root]",
   "language": "python",
   "name": "conda-root-py"
  },
  "language_info": {
   "codemirror_mode": {
    "name": "ipython",
    "version": 2
   },
   "file_extension": ".py",
   "mimetype": "text/x-python",
   "name": "python",
   "nbconvert_exporter": "python",
   "pygments_lexer": "ipython2",
   "version": "2.7.12"
  }
 },
 "nbformat": 4,
 "nbformat_minor": 1
}
